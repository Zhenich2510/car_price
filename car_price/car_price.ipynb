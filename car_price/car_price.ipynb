{
 "cells": [
  {
   "cell_type": "code",
   "execution_count": 385,
   "metadata": {
    "id": "mwr7lBrUFjDZ"
   },
   "outputs": [],
   "source": [
    "import pandas as pd\n",
    "import numpy as np\n",
    "\n",
    "import seaborn as sns\n",
    "import matplotlib.pyplot as plt\n",
    "\n",
    "from sklearn.linear_model import LinearRegression\n",
    "from sklearn.linear_model import Ridge, Lasso\n",
    "\n",
    "from sklearn.model_selection import train_test_split\n",
    "from sklearn.preprocessing import StandardScaler\n",
    "\n",
    "from sklearn.metrics import mean_absolute_error as MAE\n"
   ]
  },
  {
   "cell_type": "code",
   "execution_count": 271,
   "metadata": {},
   "outputs": [],
   "source": [
    "#pip install seaborn --upgrade"
   ]
  },
  {
   "cell_type": "markdown",
   "metadata": {
    "id": "V_hfpEhsnIrE"
   },
   "source": [
    "# 1 Import data"
   ]
  },
  {
   "cell_type": "code",
   "execution_count": 272,
   "metadata": {
    "id": "PC4TcZcvFv69"
   },
   "outputs": [],
   "source": [
    "train_data = pd.read_csv(r'C:\\Users\\Yevhen\\Desktop\\car_price\\car_price\\car_data\\linreg_train.csv')"
   ]
  },
  {
   "cell_type": "code",
   "execution_count": 273,
   "metadata": {
    "id": "tc8PxIcKmyTg"
   },
   "outputs": [],
   "source": [
    "test_data = pd.read_csv(r'C:\\Users\\Yevhen\\Desktop\\car_price\\car_price\\car_data\\linreg_test.csv')"
   ]
  },
  {
   "cell_type": "code",
   "execution_count": 274,
   "metadata": {
    "id": "qPeVOlaom7mn"
   },
   "outputs": [],
   "source": [
    "y_train = pd.read_csv(r'C:\\Users\\Yevhen\\Desktop\\car_price\\car_price\\car_data\\linreg_y_train.csv')"
   ]
  },
  {
   "cell_type": "code",
   "execution_count": 275,
   "metadata": {
    "colab": {
     "base_uri": "https://localhost:8080/",
     "height": 206
    },
    "id": "0Yx3p0HSmjeD",
    "outputId": "40b07d0a-a977-4fb7-9399-85e3f0dd8f5c"
   },
   "outputs": [
    {
     "data": {
      "text/html": [
       "<div>\n",
       "<style scoped>\n",
       "    .dataframe tbody tr th:only-of-type {\n",
       "        vertical-align: middle;\n",
       "    }\n",
       "\n",
       "    .dataframe tbody tr th {\n",
       "        vertical-align: top;\n",
       "    }\n",
       "\n",
       "    .dataframe thead th {\n",
       "        text-align: right;\n",
       "    }\n",
       "</style>\n",
       "<table border=\"1\" class=\"dataframe\">\n",
       "  <thead>\n",
       "    <tr style=\"text-align: right;\">\n",
       "      <th></th>\n",
       "      <th>Unnamed: 0</th>\n",
       "      <th>model</th>\n",
       "      <th>year</th>\n",
       "      <th>transmission</th>\n",
       "      <th>mileage</th>\n",
       "      <th>fuelType</th>\n",
       "      <th>tax</th>\n",
       "      <th>mpg</th>\n",
       "      <th>engineSize</th>\n",
       "      <th>car_maker</th>\n",
       "    </tr>\n",
       "  </thead>\n",
       "  <tbody>\n",
       "    <tr>\n",
       "      <th>0</th>\n",
       "      <td>5912</td>\n",
       "      <td>Passat</td>\n",
       "      <td>2019</td>\n",
       "      <td>Manual</td>\n",
       "      <td>15435</td>\n",
       "      <td>Diesel</td>\n",
       "      <td>150</td>\n",
       "      <td>51.4</td>\n",
       "      <td>2.0</td>\n",
       "      <td>vw</td>\n",
       "    </tr>\n",
       "    <tr>\n",
       "      <th>1</th>\n",
       "      <td>2828</td>\n",
       "      <td>A Class</td>\n",
       "      <td>2019</td>\n",
       "      <td>Semi-Auto</td>\n",
       "      <td>17945</td>\n",
       "      <td>Diesel</td>\n",
       "      <td>145</td>\n",
       "      <td>65.7</td>\n",
       "      <td>1.5</td>\n",
       "      <td>mercedes</td>\n",
       "    </tr>\n",
       "    <tr>\n",
       "      <th>2</th>\n",
       "      <td>2329</td>\n",
       "      <td>Focus</td>\n",
       "      <td>2017</td>\n",
       "      <td>Manual</td>\n",
       "      <td>20102</td>\n",
       "      <td>Petrol</td>\n",
       "      <td>20</td>\n",
       "      <td>60.1</td>\n",
       "      <td>1.0</td>\n",
       "      <td>ford</td>\n",
       "    </tr>\n",
       "    <tr>\n",
       "      <th>3</th>\n",
       "      <td>5705</td>\n",
       "      <td>C-HR</td>\n",
       "      <td>2018</td>\n",
       "      <td>Automatic</td>\n",
       "      <td>8661</td>\n",
       "      <td>Hybrid</td>\n",
       "      <td>135</td>\n",
       "      <td>74.3</td>\n",
       "      <td>1.8</td>\n",
       "      <td>toyota</td>\n",
       "    </tr>\n",
       "    <tr>\n",
       "      <th>4</th>\n",
       "      <td>4985</td>\n",
       "      <td>Fiesta</td>\n",
       "      <td>2020</td>\n",
       "      <td>Manual</td>\n",
       "      <td>10</td>\n",
       "      <td>Petrol</td>\n",
       "      <td>150</td>\n",
       "      <td>58.9</td>\n",
       "      <td>1.0</td>\n",
       "      <td>ford</td>\n",
       "    </tr>\n",
       "  </tbody>\n",
       "</table>\n",
       "</div>"
      ],
      "text/plain": [
       "   Unnamed: 0     model  year transmission  mileage fuelType  tax   mpg  \\\n",
       "0        5912    Passat  2019       Manual    15435   Diesel  150  51.4   \n",
       "1        2828   A Class  2019    Semi-Auto    17945   Diesel  145  65.7   \n",
       "2        2329     Focus  2017       Manual    20102   Petrol   20  60.1   \n",
       "3        5705      C-HR  2018    Automatic     8661   Hybrid  135  74.3   \n",
       "4        4985    Fiesta  2020       Manual       10   Petrol  150  58.9   \n",
       "\n",
       "   engineSize car_maker  \n",
       "0         2.0        vw  \n",
       "1         1.5  mercedes  \n",
       "2         1.0      ford  \n",
       "3         1.8    toyota  \n",
       "4         1.0      ford  "
      ]
     },
     "execution_count": 275,
     "metadata": {},
     "output_type": "execute_result"
    }
   ],
   "source": [
    "train_data.head()"
   ]
  },
  {
   "cell_type": "code",
   "execution_count": 276,
   "metadata": {
    "colab": {
     "base_uri": "https://localhost:8080/",
     "height": 206
    },
    "id": "eWaejx5amt1g",
    "outputId": "af573970-9bae-4889-ecd1-8ab118fb83fb"
   },
   "outputs": [
    {
     "data": {
      "text/html": [
       "<div>\n",
       "<style scoped>\n",
       "    .dataframe tbody tr th:only-of-type {\n",
       "        vertical-align: middle;\n",
       "    }\n",
       "\n",
       "    .dataframe tbody tr th {\n",
       "        vertical-align: top;\n",
       "    }\n",
       "\n",
       "    .dataframe thead th {\n",
       "        text-align: right;\n",
       "    }\n",
       "</style>\n",
       "<table border=\"1\" class=\"dataframe\">\n",
       "  <thead>\n",
       "    <tr style=\"text-align: right;\">\n",
       "      <th></th>\n",
       "      <th>Unnamed: 0</th>\n",
       "      <th>model</th>\n",
       "      <th>year</th>\n",
       "      <th>transmission</th>\n",
       "      <th>mileage</th>\n",
       "      <th>fuelType</th>\n",
       "      <th>tax</th>\n",
       "      <th>mpg</th>\n",
       "      <th>engineSize</th>\n",
       "      <th>car_maker</th>\n",
       "      <th>id</th>\n",
       "    </tr>\n",
       "  </thead>\n",
       "  <tbody>\n",
       "    <tr>\n",
       "      <th>0</th>\n",
       "      <td>0</td>\n",
       "      <td>C-MAX</td>\n",
       "      <td>2017</td>\n",
       "      <td>Manual</td>\n",
       "      <td>26805</td>\n",
       "      <td>Diesel</td>\n",
       "      <td>145</td>\n",
       "      <td>68.9</td>\n",
       "      <td>1.5</td>\n",
       "      <td>ford</td>\n",
       "      <td>0</td>\n",
       "    </tr>\n",
       "    <tr>\n",
       "      <th>1</th>\n",
       "      <td>1</td>\n",
       "      <td>1 Series</td>\n",
       "      <td>2017</td>\n",
       "      <td>Manual</td>\n",
       "      <td>24104</td>\n",
       "      <td>Petrol</td>\n",
       "      <td>125</td>\n",
       "      <td>53.3</td>\n",
       "      <td>1.5</td>\n",
       "      <td>bmw</td>\n",
       "      <td>1</td>\n",
       "    </tr>\n",
       "    <tr>\n",
       "      <th>2</th>\n",
       "      <td>2</td>\n",
       "      <td>T-Cross</td>\n",
       "      <td>2019</td>\n",
       "      <td>Manual</td>\n",
       "      <td>4899</td>\n",
       "      <td>Petrol</td>\n",
       "      <td>145</td>\n",
       "      <td>47.9</td>\n",
       "      <td>1.0</td>\n",
       "      <td>vw</td>\n",
       "      <td>2</td>\n",
       "    </tr>\n",
       "    <tr>\n",
       "      <th>3</th>\n",
       "      <td>3</td>\n",
       "      <td>A1</td>\n",
       "      <td>2019</td>\n",
       "      <td>Automatic</td>\n",
       "      <td>7000</td>\n",
       "      <td>Petrol</td>\n",
       "      <td>145</td>\n",
       "      <td>47.1</td>\n",
       "      <td>1.0</td>\n",
       "      <td>audi</td>\n",
       "      <td>3</td>\n",
       "    </tr>\n",
       "    <tr>\n",
       "      <th>4</th>\n",
       "      <td>4</td>\n",
       "      <td>Yaris</td>\n",
       "      <td>2016</td>\n",
       "      <td>Automatic</td>\n",
       "      <td>35588</td>\n",
       "      <td>Hybrid</td>\n",
       "      <td>0</td>\n",
       "      <td>86.0</td>\n",
       "      <td>1.5</td>\n",
       "      <td>toyota</td>\n",
       "      <td>4</td>\n",
       "    </tr>\n",
       "  </tbody>\n",
       "</table>\n",
       "</div>"
      ],
      "text/plain": [
       "   Unnamed: 0      model  year transmission  mileage fuelType  tax   mpg  \\\n",
       "0           0      C-MAX  2017       Manual    26805   Diesel  145  68.9   \n",
       "1           1   1 Series  2017       Manual    24104   Petrol  125  53.3   \n",
       "2           2    T-Cross  2019       Manual     4899   Petrol  145  47.9   \n",
       "3           3         A1  2019    Automatic     7000   Petrol  145  47.1   \n",
       "4           4      Yaris  2016    Automatic    35588   Hybrid    0  86.0   \n",
       "\n",
       "   engineSize car_maker  id  \n",
       "0         1.5      ford   0  \n",
       "1         1.5       bmw   1  \n",
       "2         1.0        vw   2  \n",
       "3         1.0      audi   3  \n",
       "4         1.5    toyota   4  "
      ]
     },
     "execution_count": 276,
     "metadata": {},
     "output_type": "execute_result"
    }
   ],
   "source": [
    "test_data.head()"
   ]
  },
  {
   "cell_type": "code",
   "execution_count": 277,
   "metadata": {
    "colab": {
     "base_uri": "https://localhost:8080/",
     "height": 206
    },
    "id": "rYZrAeEtnFgN",
    "outputId": "a9cfca92-300d-4836-e55d-f0367617d4d4"
   },
   "outputs": [
    {
     "data": {
      "text/html": [
       "<div>\n",
       "<style scoped>\n",
       "    .dataframe tbody tr th:only-of-type {\n",
       "        vertical-align: middle;\n",
       "    }\n",
       "\n",
       "    .dataframe tbody tr th {\n",
       "        vertical-align: top;\n",
       "    }\n",
       "\n",
       "    .dataframe thead th {\n",
       "        text-align: right;\n",
       "    }\n",
       "</style>\n",
       "<table border=\"1\" class=\"dataframe\">\n",
       "  <thead>\n",
       "    <tr style=\"text-align: right;\">\n",
       "      <th></th>\n",
       "      <th>Unnamed: 0</th>\n",
       "      <th>price</th>\n",
       "    </tr>\n",
       "  </thead>\n",
       "  <tbody>\n",
       "    <tr>\n",
       "      <th>0</th>\n",
       "      <td>5912</td>\n",
       "      <td>16795</td>\n",
       "    </tr>\n",
       "    <tr>\n",
       "      <th>1</th>\n",
       "      <td>2828</td>\n",
       "      <td>18480</td>\n",
       "    </tr>\n",
       "    <tr>\n",
       "      <th>2</th>\n",
       "      <td>2329</td>\n",
       "      <td>9995</td>\n",
       "    </tr>\n",
       "    <tr>\n",
       "      <th>3</th>\n",
       "      <td>5705</td>\n",
       "      <td>20995</td>\n",
       "    </tr>\n",
       "    <tr>\n",
       "      <th>4</th>\n",
       "      <td>4985</td>\n",
       "      <td>17000</td>\n",
       "    </tr>\n",
       "  </tbody>\n",
       "</table>\n",
       "</div>"
      ],
      "text/plain": [
       "   Unnamed: 0  price\n",
       "0        5912  16795\n",
       "1        2828  18480\n",
       "2        2329   9995\n",
       "3        5705  20995\n",
       "4        4985  17000"
      ]
     },
     "execution_count": 277,
     "metadata": {},
     "output_type": "execute_result"
    }
   ],
   "source": [
    "y_train.head()"
   ]
  },
  {
   "cell_type": "markdown",
   "metadata": {
    "id": "Tq5K7QZ3n_Ud"
   },
   "source": [
    "# 1.1 Data information"
   ]
  },
  {
   "cell_type": "code",
   "execution_count": 278,
   "metadata": {},
   "outputs": [
    {
     "name": "stdout",
     "output_type": "stream",
     "text": [
      "Shape is (64556, 10)\n"
     ]
    }
   ],
   "source": [
    "print(f'Shape is {train_data.shape}')"
   ]
  },
  {
   "cell_type": "code",
   "execution_count": 279,
   "metadata": {
    "colab": {
     "base_uri": "https://localhost:8080/"
    },
    "id": "Dn-hZzLyoBMq",
    "outputId": "09114522-8370-4178-ebf7-b25165e7a9d4"
   },
   "outputs": [
    {
     "name": "stdout",
     "output_type": "stream",
     "text": [
      "<class 'pandas.core.frame.DataFrame'>\n",
      "RangeIndex: 64556 entries, 0 to 64555\n",
      "Data columns (total 10 columns):\n",
      " #   Column        Non-Null Count  Dtype  \n",
      "---  ------        --------------  -----  \n",
      " 0   Unnamed: 0    64556 non-null  int64  \n",
      " 1   model         64556 non-null  object \n",
      " 2   year          64556 non-null  int64  \n",
      " 3   transmission  64556 non-null  object \n",
      " 4   mileage       64556 non-null  int64  \n",
      " 5   fuelType      64556 non-null  object \n",
      " 6   tax           64556 non-null  int64  \n",
      " 7   mpg           64556 non-null  float64\n",
      " 8   engineSize    64556 non-null  float64\n",
      " 9   car_maker     64556 non-null  object \n",
      "dtypes: float64(2), int64(4), object(4)\n",
      "memory usage: 4.9+ MB\n"
     ]
    }
   ],
   "source": [
    "train_data.info()"
   ]
  },
  {
   "cell_type": "code",
   "execution_count": 280,
   "metadata": {
    "colab": {
     "base_uri": "https://localhost:8080/"
    },
    "id": "tI4Pq1CqoSz4",
    "outputId": "47ddb8ba-e0aa-4ca3-9b78-b346ec21767f"
   },
   "outputs": [
    {
     "name": "stdout",
     "output_type": "stream",
     "text": [
      "<class 'pandas.core.frame.DataFrame'>\n",
      "RangeIndex: 16139 entries, 0 to 16138\n",
      "Data columns (total 11 columns):\n",
      " #   Column        Non-Null Count  Dtype  \n",
      "---  ------        --------------  -----  \n",
      " 0   Unnamed: 0    16139 non-null  int64  \n",
      " 1   model         16139 non-null  object \n",
      " 2   year          16139 non-null  int64  \n",
      " 3   transmission  16139 non-null  object \n",
      " 4   mileage       16139 non-null  int64  \n",
      " 5   fuelType      16139 non-null  object \n",
      " 6   tax           16139 non-null  int64  \n",
      " 7   mpg           16139 non-null  float64\n",
      " 8   engineSize    16139 non-null  float64\n",
      " 9   car_maker     16139 non-null  object \n",
      " 10  id            16139 non-null  int64  \n",
      "dtypes: float64(2), int64(5), object(4)\n",
      "memory usage: 1.4+ MB\n"
     ]
    }
   ],
   "source": [
    "test_data.info()"
   ]
  },
  {
   "cell_type": "markdown",
   "metadata": {
    "id": "yHyUeHbEoOOT"
   },
   "source": [
    "Not have Null elmes"
   ]
  },
  {
   "cell_type": "code",
   "execution_count": 281,
   "metadata": {},
   "outputs": [
    {
     "data": {
      "text/plain": [
       "Unnamed: 0      17299\n",
       "model             155\n",
       "year               26\n",
       "transmission        4\n",
       "mileage         33293\n",
       "fuelType            5\n",
       "tax                47\n",
       "mpg               186\n",
       "engineSize         40\n",
       "car_maker           7\n",
       "dtype: int64"
      ]
     },
     "execution_count": 281,
     "metadata": {},
     "output_type": "execute_result"
    }
   ],
   "source": [
    "train_data.nunique()"
   ]
  },
  {
   "cell_type": "code",
   "execution_count": 282,
   "metadata": {
    "colab": {
     "base_uri": "https://localhost:8080/",
     "height": 300
    },
    "id": "B8rHCDDfoRZJ",
    "outputId": "598965f9-4f6d-45d9-ff20-8d55e9fcd513"
   },
   "outputs": [
    {
     "data": {
      "text/html": [
       "<div>\n",
       "<style scoped>\n",
       "    .dataframe tbody tr th:only-of-type {\n",
       "        vertical-align: middle;\n",
       "    }\n",
       "\n",
       "    .dataframe tbody tr th {\n",
       "        vertical-align: top;\n",
       "    }\n",
       "\n",
       "    .dataframe thead th {\n",
       "        text-align: right;\n",
       "    }\n",
       "</style>\n",
       "<table border=\"1\" class=\"dataframe\">\n",
       "  <thead>\n",
       "    <tr style=\"text-align: right;\">\n",
       "      <th></th>\n",
       "      <th>Unnamed: 0</th>\n",
       "      <th>year</th>\n",
       "      <th>mileage</th>\n",
       "      <th>tax</th>\n",
       "      <th>mpg</th>\n",
       "      <th>engineSize</th>\n",
       "    </tr>\n",
       "  </thead>\n",
       "  <tbody>\n",
       "    <tr>\n",
       "      <th>count</th>\n",
       "      <td>64556.000000</td>\n",
       "      <td>64556.000000</td>\n",
       "      <td>64556.000000</td>\n",
       "      <td>64556.000000</td>\n",
       "      <td>64556.000000</td>\n",
       "      <td>64556.000000</td>\n",
       "    </tr>\n",
       "    <tr>\n",
       "      <th>mean</th>\n",
       "      <td>6444.076012</td>\n",
       "      <td>2017.114102</td>\n",
       "      <td>23031.711491</td>\n",
       "      <td>118.783072</td>\n",
       "      <td>55.846761</td>\n",
       "      <td>1.716775</td>\n",
       "    </tr>\n",
       "    <tr>\n",
       "      <th>std</th>\n",
       "      <td>4326.213393</td>\n",
       "      <td>2.132108</td>\n",
       "      <td>21499.436955</td>\n",
       "      <td>64.560914</td>\n",
       "      <td>17.039259</td>\n",
       "      <td>0.590944</td>\n",
       "    </tr>\n",
       "    <tr>\n",
       "      <th>min</th>\n",
       "      <td>0.000000</td>\n",
       "      <td>1996.000000</td>\n",
       "      <td>1.000000</td>\n",
       "      <td>0.000000</td>\n",
       "      <td>1.100000</td>\n",
       "      <td>0.000000</td>\n",
       "    </tr>\n",
       "    <tr>\n",
       "      <th>25%</th>\n",
       "      <td>2881.000000</td>\n",
       "      <td>2016.000000</td>\n",
       "      <td>6970.750000</td>\n",
       "      <td>125.000000</td>\n",
       "      <td>47.900000</td>\n",
       "      <td>1.200000</td>\n",
       "    </tr>\n",
       "    <tr>\n",
       "      <th>50%</th>\n",
       "      <td>5762.000000</td>\n",
       "      <td>2017.000000</td>\n",
       "      <td>17162.500000</td>\n",
       "      <td>145.000000</td>\n",
       "      <td>55.400000</td>\n",
       "      <td>1.600000</td>\n",
       "    </tr>\n",
       "    <tr>\n",
       "      <th>75%</th>\n",
       "      <td>9523.000000</td>\n",
       "      <td>2019.000000</td>\n",
       "      <td>32387.500000</td>\n",
       "      <td>145.000000</td>\n",
       "      <td>64.200000</td>\n",
       "      <td>2.000000</td>\n",
       "    </tr>\n",
       "    <tr>\n",
       "      <th>max</th>\n",
       "      <td>17964.000000</td>\n",
       "      <td>2060.000000</td>\n",
       "      <td>323000.000000</td>\n",
       "      <td>580.000000</td>\n",
       "      <td>470.800000</td>\n",
       "      <td>6.600000</td>\n",
       "    </tr>\n",
       "  </tbody>\n",
       "</table>\n",
       "</div>"
      ],
      "text/plain": [
       "         Unnamed: 0          year        mileage           tax           mpg  \\\n",
       "count  64556.000000  64556.000000   64556.000000  64556.000000  64556.000000   \n",
       "mean    6444.076012   2017.114102   23031.711491    118.783072     55.846761   \n",
       "std     4326.213393      2.132108   21499.436955     64.560914     17.039259   \n",
       "min        0.000000   1996.000000       1.000000      0.000000      1.100000   \n",
       "25%     2881.000000   2016.000000    6970.750000    125.000000     47.900000   \n",
       "50%     5762.000000   2017.000000   17162.500000    145.000000     55.400000   \n",
       "75%     9523.000000   2019.000000   32387.500000    145.000000     64.200000   \n",
       "max    17964.000000   2060.000000  323000.000000    580.000000    470.800000   \n",
       "\n",
       "         engineSize  \n",
       "count  64556.000000  \n",
       "mean       1.716775  \n",
       "std        0.590944  \n",
       "min        0.000000  \n",
       "25%        1.200000  \n",
       "50%        1.600000  \n",
       "75%        2.000000  \n",
       "max        6.600000  "
      ]
     },
     "execution_count": 282,
     "metadata": {},
     "output_type": "execute_result"
    }
   ],
   "source": [
    "train_data.describe()"
   ]
  },
  {
   "cell_type": "markdown",
   "metadata": {
    "id": "Q2WGzlYZpHWo"
   },
   "source": [
    "We have anomaly. Year.max = 2060"
   ]
  },
  {
   "cell_type": "markdown",
   "metadata": {},
   "source": [
    "# 2 Exploratory data analysis"
   ]
  },
  {
   "cell_type": "markdown",
   "metadata": {},
   "source": [
    " #    2.1 Target"
   ]
  },
  {
   "cell_type": "code",
   "execution_count": 283,
   "metadata": {},
   "outputs": [
    {
     "data": {
      "text/plain": [
       "array([[<matplotlib.axes._subplots.AxesSubplot object at 0x0000011132080AC0>]],\n",
       "      dtype=object)"
      ]
     },
     "execution_count": 283,
     "metadata": {},
     "output_type": "execute_result"
    },
    {
     "data": {
      "image/png": "[encoded data removed]",
      "text/plain": [
       "<Figure size 432x288 with 1 Axes>"
      ]
     },
     "metadata": {
      "needs_background": "light"
     },
     "output_type": "display_data"
    }
   ],
   "source": [
    "y_train.drop('Unnamed: 0', 1).hist(bins = 40)"
   ]
  },
  {
   "cell_type": "code",
   "execution_count": 284,
   "metadata": {},
   "outputs": [
    {
     "data": {
      "text/plain": [
       "array([[<matplotlib.axes._subplots.AxesSubplot object at 0x0000011116EF6340>]],\n",
       "      dtype=object)"
      ]
     },
     "execution_count": 284,
     "metadata": {},
     "output_type": "execute_result"
    },
    {
     "data": {
      "image/png": "[encoded data removed]",
      "text/plain": [
       "<Figure size 432x288 with 1 Axes>"
      ]
     },
     "metadata": {
      "needs_background": "light"
     },
     "output_type": "display_data"
    }
   ],
   "source": [
    "np.log(y_train+1).drop('Unnamed: 0', 1).hist(bins = 40)"
   ]
  },
  {
   "cell_type": "markdown",
   "metadata": {},
   "source": [
    "# 2.2 Boxplot "
   ]
  },
  {
   "cell_type": "code",
   "execution_count": 285,
   "metadata": {
    "id": "KwX9ybWOpIAl"
   },
   "outputs": [],
   "source": [
    "numeric_columns = ['year', 'mileage','tax','mpg','engineSize']"
   ]
  },
  {
   "cell_type": "code",
   "execution_count": 286,
   "metadata": {
    "colab": {
     "base_uri": "https://localhost:8080/",
     "height": 1000
    },
    "id": "m6bi5RzFrBPw",
    "outputId": "78c06c2d-7605-473b-d63b-08ebe040e6cf",
    "scrolled": true
   },
   "outputs": [
    {
     "data": {
      "image/png": "[encoded data removed]",
      "text/plain": [
       "<Figure size 1152x2880 with 5 Axes>"
      ]
     },
     "metadata": {
      "needs_background": "light"
     },
     "output_type": "display_data"
    }
   ],
   "source": [
    "fig, axs = plt.subplots(nrows=5, figsize=(16, 40))\n",
    "\n",
    "for index in range(5):\n",
    "  axs[index] = sns.boxplot(x = train_data[numeric_columns[index]], data = train_data, ax =  axs[index])\n",
    "  axs[index].set_title(numeric_columns[index],fontsize=20)"
   ]
  },
  {
   "cell_type": "code",
   "execution_count": 287,
   "metadata": {
    "colab": {
     "base_uri": "https://localhost:8080/",
     "height": 81
    },
    "id": "CnW917mIXPZZ",
    "outputId": "2bd7e2de-c351-4880-cb24-a16b6bde8816"
   },
   "outputs": [],
   "source": [
    "# drop elem with 2060 year\n",
    "train_data = train_data.drop(train_data[train_data['Unnamed: 0'] == 17726].index)\n",
    "y_train = y_train.drop(y_train[y_train['Unnamed: 0'] == 17726].index)"
   ]
  },
  {
   "cell_type": "markdown",
   "metadata": {},
   "source": [
    "# 2.3 Car makers"
   ]
  },
  {
   "cell_type": "code",
   "execution_count": 288,
   "metadata": {},
   "outputs": [],
   "source": [
    "train_and_y_data = train_data.copy()\n",
    "train_and_y_data['price'] = y_train.price"
   ]
  },
  {
   "cell_type": "code",
   "execution_count": 289,
   "metadata": {},
   "outputs": [
    {
     "name": "stderr",
     "output_type": "stream",
     "text": [
      "C:\\Users\\Yevhen\\anaconda3\\lib\\site-packages\\seaborn\\_decorators.py:36: FutureWarning: Pass the following variables as keyword args: x, y. From version 0.12, the only valid positional argument will be `data`, and passing other arguments without an explicit keyword will result in an error or misinterpretation.\n",
      "  warnings.warn(\n"
     ]
    },
    {
     "data": {
      "text/plain": [
       "<matplotlib.axes._subplots.AxesSubplot at 0x11116f0ba60>"
      ]
     },
     "execution_count": 289,
     "metadata": {},
     "output_type": "execute_result"
    },
    {
     "data": {
      "image/png": "[encoded data removed]",
      "text/plain": [
       "<Figure size 432x288 with 1 Axes>"
      ]
     },
     "metadata": {
      "needs_background": "light"
     },
     "output_type": "display_data"
    }
   ],
   "source": [
    "sns.barplot(train_and_y_data.car_maker, train_and_y_data.price)"
   ]
  },
  {
   "cell_type": "markdown",
   "metadata": {},
   "source": [
    "# 2.4 Year"
   ]
  },
  {
   "cell_type": "code",
   "execution_count": 290,
   "metadata": {},
   "outputs": [
    {
     "name": "stderr",
     "output_type": "stream",
     "text": [
      "C:\\Users\\Yevhen\\anaconda3\\lib\\site-packages\\seaborn\\_decorators.py:36: FutureWarning: Pass the following variables as keyword args: x, y. From version 0.12, the only valid positional argument will be `data`, and passing other arguments without an explicit keyword will result in an error or misinterpretation.\n",
      "  warnings.warn(\n"
     ]
    },
    {
     "data": {
      "text/plain": [
       "<matplotlib.axes._subplots.AxesSubplot at 0x11110b9bf40>"
      ]
     },
     "execution_count": 290,
     "metadata": {},
     "output_type": "execute_result"
    },
    {
     "data": {
      "image/png": "[encoded data removed]",
      "text/plain": [
       "<Figure size 1152x288 with 1 Axes>"
      ]
     },
     "metadata": {
      "needs_background": "light"
     },
     "output_type": "display_data"
    }
   ],
   "source": [
    "plt.figure(figsize=(16,4))\n",
    "sns.barplot(train_and_y_data.year, train_and_y_data.price)"
   ]
  },
  {
   "cell_type": "code",
   "execution_count": 291,
   "metadata": {
    "scrolled": false
   },
   "outputs": [
    {
     "data": {
      "text/plain": [
       "2019    17978\n",
       "2017    13909\n",
       "2016    10177\n",
       "2018     8515\n",
       "2015     4948\n",
       "2020     3145\n",
       "2014     2642\n",
       "2013     1720\n",
       "2012      401\n",
       "2011      277\n",
       "2010      193\n",
       "2009      193\n",
       "2008      133\n",
       "2007      101\n",
       "2006       64\n",
       "2005       49\n",
       "2004       33\n",
       "2003       23\n",
       "2002       22\n",
       "2001       11\n",
       "1998        7\n",
       "2000        6\n",
       "1999        5\n",
       "1997        2\n",
       "1996        1\n",
       "Name: year, dtype: int64"
      ]
     },
     "execution_count": 291,
     "metadata": {},
     "output_type": "execute_result"
    }
   ],
   "source": [
    "train_and_y_data.year.value_counts()\n"
   ]
  },
  {
   "cell_type": "markdown",
   "metadata": {},
   "source": [
    "# 2.5 Corr"
   ]
  },
  {
   "cell_type": "code",
   "execution_count": 292,
   "metadata": {},
   "outputs": [
    {
     "data": {
      "text/plain": [
       "<matplotlib.axes._subplots.AxesSubplot at 0x1111243bb50>"
      ]
     },
     "execution_count": 292,
     "metadata": {},
     "output_type": "execute_result"
    },
    {
     "data": {
      "image/png": "[encoded data removed]",
      "text/plain": [
       "<Figure size 720x288 with 2 Axes>"
      ]
     },
     "metadata": {
      "needs_background": "light"
     },
     "output_type": "display_data"
    }
   ],
   "source": [
    "plt.figure(figsize = (10, 4))\n",
    "sns.heatmap(train_and_y_data.drop('Unnamed: 0',1).corr(), annot = True)"
   ]
  },
  {
   "cell_type": "markdown",
   "metadata": {},
   "source": [
    "# 3 Feature engineering"
   ]
  },
  {
   "cell_type": "code",
   "execution_count": 293,
   "metadata": {
    "scrolled": false
   },
   "outputs": [
    {
     "data": {
      "text/plain": [
       "Text(0, 0.5, 'Count')"
      ]
     },
     "execution_count": 293,
     "metadata": {},
     "output_type": "execute_result"
    },
    {
     "data": {
      "image/png": "[encoded data removed]",
      "text/plain": [
       "<Figure size 1008x1080 with 6 Axes>"
      ]
     },
     "metadata": {
      "needs_background": "light"
     },
     "output_type": "display_data"
    }
   ],
   "source": [
    "fig, axs = plt.subplots(ncols=2 ,nrows=3 , figsize = (14,15))\n",
    "\n",
    "sns.histplot(train_and_y_data.tax, binwidth = 10,ax = axs[0][0])\n",
    "sns.histplot(train_and_y_data.mpg,binwidth = 10,    ax = axs[0][1])\n",
    "\n",
    "sns.histplot(train_and_y_data.engineSize,binwidth = 1,  ax = axs[1][0])\n",
    "sns.histplot(train_and_y_data.year, binwidth = 1, ax = axs[1][1])\n",
    "\n",
    "train_and_y_data.mileage.hist(bins = 50 )\n",
    "plt.xlabel('mileage')\n",
    "plt.ylabel('Count')\n"
   ]
  },
  {
   "cell_type": "code",
   "execution_count": 294,
   "metadata": {},
   "outputs": [],
   "source": [
    "log_df = train_and_y_data.copy()"
   ]
  },
  {
   "cell_type": "code",
   "execution_count": 295,
   "metadata": {},
   "outputs": [],
   "source": [
    "for i in ['year', 'mileage','tax','mpg','engineSize']:\n",
    "    log_df[i] = np.log(log_df[i] + 1)"
   ]
  },
  {
   "cell_type": "code",
   "execution_count": 296,
   "metadata": {},
   "outputs": [
    {
     "data": {
      "text/plain": [
       "Text(0, 0.5, 'Count')"
      ]
     },
     "execution_count": 296,
     "metadata": {},
     "output_type": "execute_result"
    },
    {
     "data": {
      "image/png": "[encoded data removed]",
      "text/plain": [
       "<Figure size 1008x1080 with 6 Axes>"
      ]
     },
     "metadata": {
      "needs_background": "light"
     },
     "output_type": "display_data"
    }
   ],
   "source": [
    "fig, axs = plt.subplots(ncols=2 ,nrows=3 , figsize = (14,15))\n",
    "\n",
    "sns.histplot(log_df.tax,binwidth = 0.5, ax = axs[0][0])\n",
    "sns.histplot(log_df.mpg, ax = axs[0][1])\n",
    "\n",
    "sns.histplot(log_df.engineSize,binwidth = 0.1, ax = axs[1][0])\n",
    "sns.histplot(log_df.year,binwidth = 0.001, ax = axs[1][1])\n",
    "\n",
    "log_df.mileage.hist(bins = 50 )\n",
    "plt.xlabel('mileage')\n",
    "plt.ylabel('Count')"
   ]
  },
  {
   "cell_type": "code",
   "execution_count": 297,
   "metadata": {},
   "outputs": [],
   "source": [
    "def processes_data_cars(data):\n",
    "    \"\"\"\n",
    "    Processes and cleanse data cars\n",
    "    \n",
    "    Create new column: average_miles_driven_per_year = round(data['mileage'] / (2021 - data['year'])).\n",
    "    \n",
    "    Use get_dummies for ['year', 'fuealType', 'transmission', 'model'].\n",
    "    -------------------------------------------------------------------\n",
    "    input\n",
    "        data: data for processing  \n",
    "    \n",
    "    -------------------------------------------------------------------\n",
    "    output\n",
    "        return: data\n",
    "    \"\"\"\n",
    "    \n",
    "    data['average_miles_driven_per_year'] = round(data['mileage'] / (2021 - data['year'])) \n",
    "\n",
    "    data = pd.get_dummies(data,\n",
    "                          prefix = ['year', 'fuealType', 'transmission', 'model' , 'car_maker'],\n",
    "                          columns = ['year', 'fuelType', 'transmission', 'model', 'car_maker'],\n",
    "                          drop_first = True)\n",
    "    return data"
   ]
  },
  {
   "cell_type": "code",
   "execution_count": 298,
   "metadata": {},
   "outputs": [],
   "source": [
    "def splitting_into_elite_and_standard_car_data(data):\n",
    "    \"\"\"\n",
    "    Split data in 2 dates : standart_car_data and elite_car_data\n",
    "        elite_car_data - 'mercedes','audi', 'bmw'\n",
    "        standart_car_data - ather makers cars\n",
    "        \n",
    "    -------------------------------------------------------------------\n",
    "    input\n",
    "        data: data for processing \n",
    "        \n",
    "    -------------------------------------------------------------------\n",
    "    output\n",
    "        return: standart_car_data, elite_car_data\n",
    "    \"\"\"\n",
    "    elite_car_data = data[data.car_maker.isin(['mercedes','audi', 'bmw'])].copy()\n",
    "    standard_car_data = data[~data.car_maker.isin(['mercedes','audi', 'bmw'])].copy()\n",
    "    \n",
    "    return standard_car_data, elite_car_data"
   ]
  },
  {
   "cell_type": "code",
   "execution_count": 373,
   "metadata": {},
   "outputs": [],
   "source": [
    "standard_car_data, elite_car_data = splitting_into_elite_and_standard_car_data(train_and_y_data)"
   ]
  },
  {
   "cell_type": "code",
   "execution_count": 374,
   "metadata": {},
   "outputs": [],
   "source": [
    "standard_car_data = processes_data_cars(standard_car_data)\n",
    "elite_car_data = processes_data_cars(elite_car_data)"
   ]
  },
  {
   "cell_type": "code",
   "execution_count": 375,
   "metadata": {},
   "outputs": [
    {
     "name": "stdout",
     "output_type": "stream",
     "text": [
      "Shape of standard_car_data is (36901, 118) \n",
      "Shape of elite_car_data is (27654, 114) \n"
     ]
    }
   ],
   "source": [
    "print(f'Shape of standard_car_data is {standard_car_data.shape} ')\n",
    "print(f'Shape of elite_car_data is {elite_car_data.shape} ')"
   ]
  },
  {
   "cell_type": "markdown",
   "metadata": {},
   "source": [
    "# 4 Modeling "
   ]
  },
  {
   "cell_type": "code",
   "execution_count": 399,
   "metadata": {},
   "outputs": [],
   "source": [
    "# train_test_split for standard_car_data\n",
    "\n",
    "X_train_standard, X_test_standard, Y_train_standard, Y_test_standard = train_test_split(standard_car_data.drop(\"price\", 1),\n",
    "                                                                                        standard_car_data.price, \n",
    "                                                                                        test_size = 0.2,\n",
    "                                                                                        shuffle = True) "
   ]
  },
  {
   "cell_type": "code",
   "execution_count": 400,
   "metadata": {},
   "outputs": [],
   "source": [
    "# train_test_split for elite_car_data\n",
    "\n",
    "X_train_elite, X_test_elite, Y_train_elite, Y_test_elite = train_test_split(elite_car_data.drop(\"price\", 1),\n",
    "                                                                            elite_car_data.price,\n",
    "                                                                            test_size = 0.2,\n",
    "                                                                            shuffle = True) "
   ]
  },
  {
   "cell_type": "markdown",
   "metadata": {},
   "source": [
    "# 4.1 Baseline"
   ]
  },
  {
   "cell_type": "markdown",
   "metadata": {},
   "source": [
    "For standart marks"
   ]
  },
  {
   "cell_type": "code",
   "execution_count": 401,
   "metadata": {},
   "outputs": [
    {
     "data": {
      "text/plain": [
       "LinearRegression(n_jobs=-1)"
      ]
     },
     "execution_count": 401,
     "metadata": {},
     "output_type": "execute_result"
    }
   ],
   "source": [
    "standart_LR = LinearRegression(n_jobs = -1, normalize = False)\n",
    "standart_LR.fit(X_train_standard.drop('Unnamed: 0', 1), Y_train_standard)"
   ]
  },
  {
   "cell_type": "code",
   "execution_count": 402,
   "metadata": {},
   "outputs": [
    {
     "data": {
      "text/plain": [
       "1512.6679919831845"
      ]
     },
     "execution_count": 402,
     "metadata": {},
     "output_type": "execute_result"
    }
   ],
   "source": [
    "MAE(Y_test_standard, standart_LR.predict(X_test_standard.drop('Unnamed: 0', 1)))"
   ]
  },
  {
   "cell_type": "code",
   "execution_count": null,
   "metadata": {},
   "outputs": [],
   "source": []
  },
  {
   "cell_type": "code",
   "execution_count": null,
   "metadata": {},
   "outputs": [],
   "source": []
  },
  {
   "cell_type": "markdown",
   "metadata": {},
   "source": [
    "For elite marks"
   ]
  },
  {
   "cell_type": "code",
   "execution_count": 403,
   "metadata": {},
   "outputs": [
    {
     "data": {
      "text/plain": [
       "LinearRegression(n_jobs=-1)"
      ]
     },
     "execution_count": 403,
     "metadata": {},
     "output_type": "execute_result"
    }
   ],
   "source": [
    "elite_LR = LinearRegression(n_jobs = -1)\n",
    "elite_LR.fit(X_train_elite.drop('Unnamed: 0', 1), Y_train_elite)"
   ]
  },
  {
   "cell_type": "code",
   "execution_count": 404,
   "metadata": {},
   "outputs": [
    {
     "data": {
      "text/plain": [
       "2890.2044390123638"
      ]
     },
     "execution_count": 404,
     "metadata": {},
     "output_type": "execute_result"
    }
   ],
   "source": [
    "MAE(Y_test_elite, elite_LR.predict(X_test_elite.drop('Unnamed: 0', 1)))"
   ]
  },
  {
   "cell_type": "code",
   "execution_count": null,
   "metadata": {},
   "outputs": [],
   "source": []
  }
 ],
 "metadata": {
  "colab": {
   "collapsed_sections": [],
   "name": "linear_regression_car_price",
   "provenance": []
  },
  "kernelspec": {
   "display_name": "Python 3",
   "language": "python",
   "name": "python3"
  },
  "language_info": {
   "codemirror_mode": {
    "name": "ipython",
    "version": 3
   },
   "file_extension": ".py",
   "mimetype": "text/x-python",
   "name": "python",
   "nbconvert_exporter": "python",
   "pygments_lexer": "ipython3",
   "version": "3.8.3"
  }
 },
 "nbformat": 4,
 "nbformat_minor": 1
}
